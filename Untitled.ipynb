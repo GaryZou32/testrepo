{
 "cells": [
  {
   "cell_type": "code",
   "execution_count": 1,
   "id": "9e19547c-3105-4377-a7f7-bf4fc7748b7a",
   "metadata": {},
   "outputs": [
    {
     "ename": "ModuleNotFoundError",
     "evalue": "No module named 'sudo_rm_rf'",
     "output_type": "error",
     "traceback": [
      "\u001b[1;31m---------------------------------------------------------------------------\u001b[0m",
      "\u001b[1;31mModuleNotFoundError\u001b[0m                       Traceback (most recent call last)",
      "Cell \u001b[1;32mIn[1], line 1\u001b[0m\n\u001b[1;32m----> 1\u001b[0m \u001b[38;5;28;01mimport\u001b[39;00m \u001b[38;5;21;01msudo_rm_rf\u001b[39;00m\u001b[38;5;21;01m.\u001b[39;00m\u001b[38;5;21;01mdnn\u001b[39;00m\u001b[38;5;21;01m.\u001b[39;00m\u001b[38;5;21;01mexperiments\u001b[39;00m\u001b[38;5;21;01m.\u001b[39;00m\u001b[38;5;21;01mutils\u001b[39;00m\u001b[38;5;21;01m.\u001b[39;00m\u001b[38;5;21;01mmixture_consistency\u001b[39;00m \u001b[38;5;28;01mas\u001b[39;00m \u001b[38;5;21;01mmixture_consistency\u001b[39;00m\n\u001b[0;32m      2\u001b[0m \u001b[38;5;28;01mimport\u001b[39;00m \u001b[38;5;21;01msudo_rm_rf\u001b[39;00m\u001b[38;5;21;01m.\u001b[39;00m\u001b[38;5;21;01mdnn\u001b[39;00m\u001b[38;5;21;01m.\u001b[39;00m\u001b[38;5;21;01mmodels\u001b[39;00m\u001b[38;5;21;01m.\u001b[39;00m\u001b[38;5;21;01mimproved_sudormrf\u001b[39;00m \u001b[38;5;28;01mas\u001b[39;00m \u001b[38;5;21;01mimproved_sudormrf\u001b[39;00m\n\u001b[0;32m      3\u001b[0m \u001b[38;5;28;01mimport\u001b[39;00m \u001b[38;5;21;01msudo_rm_rf\u001b[39;00m\u001b[38;5;21;01m.\u001b[39;00m\u001b[38;5;21;01mdnn\u001b[39;00m\u001b[38;5;21;01m.\u001b[39;00m\u001b[38;5;21;01mmodels\u001b[39;00m\u001b[38;5;21;01m.\u001b[39;00m\u001b[38;5;21;01mgroupcomm_sudormrf_v2\u001b[39;00m \u001b[38;5;28;01mas\u001b[39;00m \u001b[38;5;21;01msudormrf_gc_v2\u001b[39;00m\n",
      "\u001b[1;31mModuleNotFoundError\u001b[0m: No module named 'sudo_rm_rf'"
     ]
    }
   ],
   "source": [
    "import sudo_rm_rf.dnn.experiments.utils.mixture_consistency as mixture_consistency\n",
    "import sudo_rm_rf.dnn.models.improved_sudormrf as improved_sudormrf\n",
    "import sudo_rm_rf.dnn.models.groupcomm_sudormrf_v2 as sudormrf_gc_v2\n",
    "\n",
    "# Load a pretrained model\n",
    "separation_model = torch.load(anechoic_model_p)\n",
    "\n",
    "anechoic_separation_model_config = os.path.basename(anechoic_model_p)\n",
    "type_of_model = anechoic_separation_model_config.split('_')[0]\n",
    "\n",
    "if type_of_model == \"Improved\":\n",
    "    model = improved_sudormrf.SuDORMRF(\n",
    "            out_channels=anechoic_separation_model.out_channels,\n",
    "            in_channels=anechoic_separation_model.in_channels,\n",
    "            num_blocks=anechoic_separation_model.num_blocks,\n",
    "            upsampling_depth=anechoic_separation_model.upsampling_depth,\n",
    "            enc_kernel_size=anechoic_separation_model.enc_kernel_size,\n",
    "            enc_num_basis=anechoic_separation_model.enc_num_basis,\n",
    "            num_sources=anechoic_separation_model.num_sources,)\n",
    "else:\n",
    "    model = sudormrf_gc_v2.GroupCommSudoRmRf(\n",
    "            out_channels=anechoic_separation_model.out_channels,\n",
    "            in_channels=anechoic_separation_model.in_channels,\n",
    "            num_blocks=anechoic_separation_model.num_blocks,\n",
    "            upsampling_depth=anechoic_separation_model.upsampling_depth,\n",
    "            enc_kernel_size=anechoic_separation_model.enc_kernel_size,\n",
    "            enc_num_basis=anechoic_separation_model.enc_num_basis,\n",
    "            num_sources=anechoic_separation_model.num_sources,)\n",
    "model.load_state_dict(anechoic_separation_model.state_dict())\n",
    "\n",
    "# Normalize the waveform and apply the model\n",
    "input_mix_std = separation_model.std(-1, keepdim=True)\n",
    "input_mix_mean = separation_model.mean(-1, keepdim=True)\n",
    "input_mix = (separation_model - input_mix_mean) / (input_mix_std + 1e-9)\n",
    "\n",
    "# Apply the model\n",
    "rec_sources_wavs = model(input_mix.unsqueeze(1))\n",
    "\n",
    "# Rescale the input sources with the mixture mean and variance\n",
    "rec_sources_wavs = (rec_sources_wavs * input_mix_std) + input_mix_mean\n",
    "\n",
    "# In case you are using the pre-trained models with Group communication\n",
    "# please also use the mixture consistency right after the estimated waveforms\n",
    "if \"GroupCom\" in anechoic_model_p:\n",
    "    rec_sources_wavs = mixture_consistency.apply(rec_sources_wavs, input_mix.unsqueeze(1))"
   ]
  },
  {
   "cell_type": "code",
   "execution_count": null,
   "id": "23257d2d-3e03-4753-95c5-375bf0ddc571",
   "metadata": {},
   "outputs": [],
   "source": []
  }
 ],
 "metadata": {
  "kernelspec": {
   "display_name": "Python 3 (ipykernel)",
   "language": "python",
   "name": "python3"
  },
  "language_info": {
   "codemirror_mode": {
    "name": "ipython",
    "version": 3
   },
   "file_extension": ".py",
   "mimetype": "text/x-python",
   "name": "python",
   "nbconvert_exporter": "python",
   "pygments_lexer": "ipython3",
   "version": "3.11.5"
  }
 },
 "nbformat": 4,
 "nbformat_minor": 5
}
